{
 "cells": [
  {
   "cell_type": "markdown",
   "id": "69e7471b",
   "metadata": {},
   "source": [
    "# Exam on Convolutional Neural Networks (CNN)\n",
    "\n",
    "Welcome to the Convolutional Neural Networks (CNN) practical exam. In this exam, you will work on an image classification task to predict the type of traffic sign. You are provided with a dataset of traffic sign images, and your task is to build, train, and evaluate a CNN model.\n",
    "\n",
    "---\n",
    "\n",
    "## Dataset Overview\n",
    "### **Dataset:**\n",
    "* Just run the command under the `Load Data` section to get the data downloaded and unzipped or you can access it [here](https://drive.google.com/file/d/1HwMV-Lt_sWoxc5v6igmTxTwomS3DR6cQ/view?usp=sharing)\n",
    "### **Dataset Name:** Traffic Signs\n",
    "\n",
    "### **Description:**  \n",
    "The dataset contains images of various German traffic signs labeled for classification purposes. Each image belongs to one of the 43 classes, representing different types of traffic signs.\n",
    "\n",
    "### **Labels:**\n",
    "```python\n",
    "classes = {\n",
    "    0:  'Speed limit (20km/h)',\n",
    "    1:  'Speed limit (30km/h)', \n",
    "    2:  'Speed limit (50km/h)', \n",
    "    3:  'Speed limit (60km/h)', \n",
    "    4:  'Speed limit (70km/h)', \n",
    "    5:  'Speed limit (80km/h)', \n",
    "    6:  'End of speed limit (80km/h)', \n",
    "    7:  'Speed limit (100km/h)', \n",
    "    8:  'Speed limit (120km/h)', \n",
    "    9:  'No passing', \n",
    "    10: 'No passing veh over 3.5 tons', \n",
    "    11: 'Right-of-way at intersection', \n",
    "    12: 'Priority road', \n",
    "    13: 'Yield', \n",
    "    14: 'Stop', \n",
    "    15: 'No vehicles', \n",
    "    16: 'Veh > 3.5 tons prohibited', \n",
    "    17: 'No entry', \n",
    "    18: 'General caution', \n",
    "    19: 'Dangerous curve left', \n",
    "    20: 'Dangerous curve right', \n",
    "    21: 'Double curve', \n",
    "    22: 'Bumpy road', \n",
    "    23: 'Slippery road', \n",
    "    24: 'Road narrows on the right', \n",
    "    25: 'Road work', \n",
    "    26: 'Traffic signals', \n",
    "    27: 'Pedestrians', \n",
    "    28: 'Children crossing', \n",
    "    29: 'Bicycles crossing', \n",
    "    30: 'Beware of ice/snow',\n",
    "    31: 'Wild animals crossing', \n",
    "    32: 'End speed + passing limits', \n",
    "    33: 'Turn right ahead', \n",
    "    34: 'Turn left ahead', \n",
    "    35: 'Ahead only', \n",
    "    36: 'Go straight or right', \n",
    "    37: 'Go straight or left', \n",
    "    38: 'Keep right', \n",
    "    39: 'Keep left', \n",
    "    40: 'Roundabout mandatory', \n",
    "    41: 'End of no passing', \n",
    "    42: 'End no passing veh > 3.5 tons'\n",
    "}\n",
    "```\n",
    "\n"
   ]
  },
  {
   "cell_type": "markdown",
   "id": "66c6f645",
   "metadata": {},
   "source": [
    "## Load Data\n",
    "Run the following command to get the data and unzip it, alternatively you can access the data [here](https://drive.google.com/file/d/1HwMV-Lt_sWoxc5v6igmTxTwomS3DR6cQ/view?usp=sharing)."
   ]
  },
  {
   "cell_type": "code",
   "execution_count": 29,
   "id": "ee08de6b",
   "metadata": {},
   "outputs": [
    {
     "ename": "SyntaxError",
     "evalue": "invalid decimal literal (3346595941.py, line 1)",
     "output_type": "error",
     "traceback": [
      "\u001b[1;36m  Cell \u001b[1;32mIn[29], line 1\u001b[1;36m\u001b[0m\n\u001b[1;33m    https://drive.google.com/file/d/1HwMV-Lt_sWoxc5v6igmTxTwomS3DR6cQ/view?usp=sharing\u001b[0m\n\u001b[1;37m                                    ^\u001b[0m\n\u001b[1;31mSyntaxError\u001b[0m\u001b[1;31m:\u001b[0m invalid decimal literal\n"
     ]
    }
   ],
   "source": [
    "https://drive.google.com/file/d/1HwMV-Lt_sWoxc5v6igmTxTwomS3DR6cQ/view?usp=sharing\n",
    "!pip install gdown\n",
    "!gdown --id 1HwMV-Lt_sWoxc5v6igmTxTwomS3DR6cQ\n",
    "!unzip Traffic_Signs.zip"
   ]
  },
  {
   "cell_type": "markdown",
   "id": "9bb9f30e",
   "metadata": {},
   "source": [
    "## Import Libraries"
   ]
  },
  {
   "cell_type": "code",
   "execution_count": null,
   "id": "22207f85",
   "metadata": {},
   "outputs": [],
   "source": [
    "import os\n",
    "import cv2\n",
    "import matplotlib.pyplot as plt\n",
    "import numpy as np\n",
    "import tensorflow as tf\n",
    "import keras\n",
    "from keras import layers, models"
   ]
  },
  {
   "cell_type": "code",
   "execution_count": null,
   "id": "baf34665",
   "metadata": {},
   "outputs": [],
   "source": []
  },
  {
   "cell_type": "markdown",
   "id": "3aa9945d",
   "metadata": {},
   "source": [
    "## Data Preprocessing\n",
    "In this section, preprocess the dataset by:\n",
    "- Loading the images from the file paths.\n",
    "- Resizing the images to a consistent size.\n",
    "- Normalizing pixel values.\n",
    "\n",
    "Add more if needed!"
   ]
  },
  {
   "cell_type": "code",
   "execution_count": 36,
   "id": "a754f991",
   "metadata": {},
   "outputs": [],
   "source": [
    "imag_data = \"C:\\\\Users\\\\abdul\\\\OneDrive\\\\Desktop\\\\1- Weekly_Project\\\\Weekly_Project\\\\Traffic_Signs\\\\Dataset\"\n",
    "\n",
    "fixed_size = (64, 64)\n",
    "all_images = []\n",
    "\n",
    "for folder_name in os.listdir(imag_data):\n",
    "    folder_path = os.path.join(imag_data, folder_name)\n",
    "    \n",
    "    if os.path.isdir(folder_path):  \n",
    "        for file_name in os.listdir(folder_path):\n",
    "            file_path = os.path.join(folder_path, file_name)\n",
    "            \n",
    "            if file_name.lower().endswith(('.png', '.jpg', '.jpeg', '.bmp', '.gif')):  \n",
    "            \n",
    "                img = cv2.imread(file_path)\n",
    "                if img is not None:  \n",
    "                    img = cv2.cvtColor(img, cv2.COLOR_BGR2RGB)  \n",
    "                    resized_img = cv2.resize(img, fixed_size)\n",
    "                    all_images.append(img)\n",
    "\n",
    "\n"
   ]
  },
  {
   "cell_type": "code",
   "execution_count": 48,
   "id": "72042d3e",
   "metadata": {},
   "outputs": [],
   "source": [
    "def display_images(img, num_to_display=5):\n",
    "    plt.figure(figsize=(15, 10))\n",
    "    for i in range(min(num_to_display, len(img))):\n",
    "        plt.subplot(1, num_to_display, i+1)\n",
    "        plt.imshow(img[i])\n",
    "        plt.axis('off')\n",
    "    plt.show()"
   ]
  },
  {
   "cell_type": "code",
   "execution_count": 49,
   "id": "101480e1",
   "metadata": {},
   "outputs": [
    {
     "name": "stdout",
     "output_type": "stream",
     "text": [
      "Displaying resized car images train...\n"
     ]
    },
    {
     "data": {
      "image/png": "[encoded data removed]",
      "text/plain": [
       "<Figure size 1500x1000 with 5 Axes>"
      ]
     },
     "metadata": {},
     "output_type": "display_data"
    }
   ],
   "source": [
    "print(\"Displaying resized car images train...\")\n",
    "display_images(img)"
   ]
  },
  {
   "cell_type": "code",
   "execution_count": 50,
   "id": "b38d6a3a",
   "metadata": {},
   "outputs": [
    {
     "ename": "TypeError",
     "evalue": "list.count() takes exactly one argument (0 given)",
     "output_type": "error",
     "traceback": [
      "\u001b[1;31m---------------------------------------------------------------------------\u001b[0m",
      "\u001b[1;31mTypeError\u001b[0m                                 Traceback (most recent call last)",
      "Cell \u001b[1;32mIn[50], line 1\u001b[0m\n\u001b[1;32m----> 1\u001b[0m \u001b[43mall_images\u001b[49m\u001b[38;5;241;43m.\u001b[39;49m\u001b[43mcount\u001b[49m\u001b[43m(\u001b[49m\u001b[43m)\u001b[49m\n",
      "\u001b[1;31mTypeError\u001b[0m: list.count() takes exactly one argument (0 given)"
     ]
    }
   ],
   "source": []
  },
  {
   "cell_type": "code",
   "execution_count": null,
   "id": "e2e092bc",
   "metadata": {},
   "outputs": [],
   "source": []
  },
  {
   "cell_type": "code",
   "execution_count": null,
   "id": "028bdc57",
   "metadata": {},
   "outputs": [],
   "source": []
  },
  {
   "cell_type": "markdown",
   "id": "541f3c2b",
   "metadata": {},
   "source": [
    "## Data Splitting\n",
    "In this section, we will split our dataset into three parts:\n",
    "\n",
    "* Training set (70%).\n",
    "* Validation set (15%).\n",
    "* Test set (15%)."
   ]
  },
  {
   "cell_type": "code",
   "execution_count": null,
   "id": "cd2cca39",
   "metadata": {},
   "outputs": [],
   "source": []
  },
  {
   "cell_type": "markdown",
   "id": "83974596",
   "metadata": {},
   "source": [
    "## Building the CNN Model\n",
    "In this section, define the architecture of the CNN model. The architecture may consist of:\n",
    "- Convolutional layers with max-pooling\n",
    "- Dropout layers\n",
    "- Flatten layer\n",
    "- Dense layers\n",
    "- Output layer\n",
    "\n",
    "Add and remove any of these as needed!"
   ]
  },
  {
   "cell_type": "code",
   "execution_count": null,
   "id": "977da65a",
   "metadata": {},
   "outputs": [],
   "source": []
  },
  {
   "cell_type": "markdown",
   "id": "fe1c0940",
   "metadata": {},
   "source": [
    "## Training the Model\n",
    "Train the CNN model using the training data and validate it on the validation set."
   ]
  },
  {
   "cell_type": "code",
   "execution_count": null,
   "id": "ce31faf9",
   "metadata": {},
   "outputs": [],
   "source": []
  },
  {
   "cell_type": "markdown",
   "id": "25ad1b22",
   "metadata": {},
   "source": [
    "## Evaluate the Model\n",
    "Evaluate the performance of the model on the test set."
   ]
  },
  {
   "cell_type": "code",
   "execution_count": null,
   "id": "eb9ed70f",
   "metadata": {},
   "outputs": [],
   "source": []
  },
  {
   "cell_type": "markdown",
   "id": "a37fca33",
   "metadata": {},
   "source": [
    "## Make Predictions\n",
    "Use the trained model to make predictions on new or unseen traffic sign images."
   ]
  },
  {
   "cell_type": "markdown",
   "id": "f1ab3608",
   "metadata": {},
   "source": [
    "if you need new, we prepared some data for you [here](https://drive.google.com/file/d/1S_vpQntND9839x8kJpegaEgtSIA4JxHO/view?usp=sharing), or you can simply run the following command to get the data and unzip it.\n",
    "\n",
    "<small>Note: please note that the file contain MetaData to tell you what each image contains <b>THIS IS JUST FOR YOU TO MAKE SURE</b></smmall>"
   ]
  },
  {
   "cell_type": "code",
   "execution_count": null,
   "id": "a7a5c981",
   "metadata": {},
   "outputs": [],
   "source": [
    "#https://drive.google.com/file/d/1S_vpQntND9839x8kJpegaEgtSIA4JxHO/view?usp=sharing\n",
    "!gdown --id 1S_vpQntND9839x8kJpegaEgtSIA4JxHO\n",
    "!unzip Test_Dataset.zip"
   ]
  },
  {
   "cell_type": "code",
   "execution_count": null,
   "id": "be46ba26",
   "metadata": {},
   "outputs": [],
   "source": []
  },
  {
   "cell_type": "markdown",
   "id": "8430600d",
   "metadata": {},
   "source": [
    "## Model Performance Visualization\n",
    "Visualize performance metrics such as accuracy and loss over the epochs."
   ]
  },
  {
   "cell_type": "code",
   "execution_count": null,
   "id": "50624cfe",
   "metadata": {},
   "outputs": [],
   "source": []
  },
  {
   "cell_type": "markdown",
   "id": "8d4f3348",
   "metadata": {},
   "source": [
    "## Save the Model\n",
    "Save the trained CNN model for submission."
   ]
  },
  {
   "cell_type": "code",
   "execution_count": null,
   "id": "fe6b2df0",
   "metadata": {},
   "outputs": [],
   "source": []
  },
  {
   "cell_type": "markdown",
   "id": "ed90995f",
   "metadata": {},
   "source": [
    "## Project Questions:\n",
    "\n",
    "1. **Data Preprocessing**: Explain why you chose your specific data preprocessing techniques (e.g., resizing images, normalization, data augmentation). How do these preprocessing steps improve the performance of your CNN model?\n",
    "2. **Model Architecture**: Describe the architecture of your CNN model (e.g., number of convolutional layers, kernel sizes, pooling layers). Why did you choose this structure, and how do you expect each layer to contribute to feature extraction?\n",
    "3. **Activation Functions**: Justify your choice of activation functions. How do they influence the training and output of your CNN?\n",
    "4. **Training Process**: Discuss your choice of batch size, number of epochs, and optimizer. How did these decisions impact the training process and the convergence of the model?\n",
    "5. **Loss Function and Metrics**: Explain why you chose the specific loss function and evaluation metrics for this classification task. How do they align with the goal of correctly classifying traffic signs?\n",
    "6. **Regularization Techniques**: If you used regularization methods like dropout or batch normalization, explain why you implemented them and how they helped prevent overfitting in your model.\n",
    "7. **Model Evaluation**: Justify the method you used to evaluate your model's performance on the test set. Why did you select these evaluation techniques, and what insights did they provide about your model's accuracy and generalization ability?\n",
    "8. **Model Visualization**: Explain the significance of the performance visualizations (e.g., accuracy and loss curves). What do they tell you about your model's training process and its ability to generalize?\n",
    "9. **Overfitting and Underfitting**: Analyze whether the model encountered any overfitting or underfitting during training. What strategies could you implement to mitigate these issues?"
   ]
  },
  {
   "cell_type": "markdown",
   "id": "02e7f114",
   "metadata": {},
   "source": [
    "### Answer Here:"
   ]
  }
 ],
 "metadata": {
  "kernelspec": {
   "display_name": "Python 3",
   "language": "python",
   "name": "python3"
  },
  "language_info": {
   "codemirror_mode": {
    "name": "ipython",
    "version": 3
   },
   "file_extension": ".py",
   "mimetype": "text/x-python",
   "name": "python",
   "nbconvert_exporter": "python",
   "pygments_lexer": "ipython3",
   "version": "3.12.4"
  }
 },
 "nbformat": 4,
 "nbformat_minor": 5
}
