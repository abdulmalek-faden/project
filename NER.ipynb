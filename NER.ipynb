{
  "nbformat": 4,
  "nbformat_minor": 0,
  "metadata": {
    "colab": {
      "provenance": []
    },
    "kernelspec": {
      "name": "python3",
      "display_name": "Python 3"
    },
    "language_info": {
      "name": "python"
    }
  },
  "cells": [
    {
      "cell_type": "markdown",
      "source": [
        "#Named Entity Recognition (NER)"
      ],
      "metadata": {
        "id": "ub0akNa5FwpT"
      }
    },
    {
      "cell_type": "markdown",
      "source": [
        "Using spaCy for NER\n",
        "1. **Named Entities**: Entities that refer to specific objects or people, e.g., \"Barack Obama\", \"Google\", \"New York\".\n",
        "2. **Categories**: Common categories include PERSON, ORGANIZATION, LOCATION, DATE, TIME, and others.\n",
        "3. **NER Models**: NER models can be based on rule-based systems, machine learning, or deep learning techniques."
      ],
      "metadata": {
        "id": "BTxQweeGF1xs"
      }
    },
    {
      "cell_type": "markdown",
      "source": [
        "## Example: Using spaCy for NER\n"
      ],
      "metadata": {
        "id": "gddIb9tGF-GY"
      }
    },
    {
      "cell_type": "code",
      "source": [
        "import spacy"
      ],
      "metadata": {
        "id": "gbT1WYlOGCm6"
      },
      "execution_count": 1,
      "outputs": []
    },
    {
      "cell_type": "markdown",
      "source": [
        "# Load the spaCy model\n"
      ],
      "metadata": {
        "id": "5xyt_o8TGEI6"
      }
    },
    {
      "cell_type": "code",
      "source": [
        "nlp = spacy.load(\"en_core_web_sm\")"
      ],
      "metadata": {
        "id": "StatqGVeGCGc"
      },
      "execution_count": 2,
      "outputs": []
    },
    {
      "cell_type": "code",
      "execution_count": 3,
      "metadata": {
        "id": "ccjuQWuyC4Sm",
        "colab": {
          "base_uri": "https://localhost:8080/"
        },
        "outputId": "189c5697-482f-48cf-b34e-ea73bd9b9832"
      },
      "outputs": [
        {
          "output_type": "stream",
          "name": "stdout",
          "text": [
            "Apple ORG\n",
            "U.K. GPE\n",
            "$1 billion MONEY\n",
            "Tim Cook PERSON\n",
            "Apple ORG\n"
          ]
        }
      ],
      "source": [
        "# Example text\n",
        "text = \"Apple is looking at buying U.K. startup for $1 billion. Tim Cook is the CEO of Apple.\"\n",
        "\n",
        "# Process the text with spaCy\n",
        "doc = nlp(text)\n",
        "\n",
        "# Extract named entities\n",
        "for ent in doc.ents:\n",
        "    print(ent.text, ent.label_)\n"
      ]
    },
    {
      "cell_type": "code",
      "source": [
        "text = \"Elon Musk is the CEO of Tesla and SpaceX. He was born in Pretoria, South Africa.\"\n",
        "\n",
        "# Process the text with spaCy\n",
        "doc = nlp(text)\n",
        "\n",
        "# Extract named entities\n",
        "for ent in doc.ents:\n",
        "    print(ent.text, ent.label_)\n"
      ],
      "metadata": {
        "id": "pxBFRoyvGK0F",
        "colab": {
          "base_uri": "https://localhost:8080/"
        },
        "outputId": "e2a7c3c1-b426-482e-ba00-60727974fa7f"
      },
      "execution_count": 4,
      "outputs": [
        {
          "output_type": "stream",
          "name": "stdout",
          "text": [
            "Elon Musk PERSON\n",
            "Tesla ORG\n",
            "Pretoria GPE\n",
            "South Africa GPE\n"
          ]
        }
      ]
    },
    {
      "cell_type": "code",
      "source": [
        "from spacy.training import Example\n"
      ],
      "metadata": {
        "id": "u1yhF72hGQlq"
      },
      "execution_count": 5,
      "outputs": []
    },
    {
      "cell_type": "markdown",
      "source": [
        "# Custom NER training data\n"
      ],
      "metadata": {
        "id": "TkBoL-ouGPeK"
      }
    },
    {
      "cell_type": "markdown",
      "source": [
        "# Custom NER training data\n"
      ],
      "metadata": {
        "id": "NBiBP2dgGRug"
      }
    },
    {
      "cell_type": "code",
      "source": [
        "TRAIN_DATA = [\n",
        "    (\"Tesla is an electric car manufacturer.\", {\"entities\": [(0, 5, \"COMPANY\")]}),\n",
        "    (\"SpaceX is a space exploration company.\", {\"entities\": [(0, 6, \"COMPANY\")]}),\n",
        "]"
      ],
      "metadata": {
        "id": "ksxHHDFUGUk7"
      },
      "execution_count": 6,
      "outputs": []
    },
    {
      "cell_type": "code",
      "source": [
        "# Load a blank model\n",
        "nlp = spacy.blank(\"en\")"
      ],
      "metadata": {
        "id": "2WK3RVIfGWzo"
      },
      "execution_count": 7,
      "outputs": []
    },
    {
      "cell_type": "code",
      "source": [
        "# Create a new NER component and add it to the pipeline\n",
        "ner = nlp.add_pipe(\"ner\")"
      ],
      "metadata": {
        "id": "HqDwwvJLGXMP"
      },
      "execution_count": 8,
      "outputs": []
    },
    {
      "cell_type": "code",
      "source": [
        "# Add new label to the NER component\n",
        "ner.add_label(\"COMPANY\")"
      ],
      "metadata": {
        "id": "iZ7O-kY2GZK7",
        "colab": {
          "base_uri": "https://localhost:8080/"
        },
        "outputId": "f1c4c9fb-ef17-4f19-9a35-0e06e8fb43bc"
      },
      "execution_count": 22,
      "outputs": [
        {
          "output_type": "execute_result",
          "data": {
            "text/plain": [
              "0"
            ]
          },
          "metadata": {},
          "execution_count": 22
        }
      ]
    },
    {
      "cell_type": "markdown",
      "source": [
        "# Training the NER model\n"
      ],
      "metadata": {
        "id": "iPOwx0KyGbrB"
      }
    },
    {
      "cell_type": "code",
      "source": [
        "optimizer = nlp.begin_training()\n",
        "for epoch in range(10):\n",
        "    for text, annotations in TRAIN_DATA:\n",
        "        doc = nlp.make_doc(text)\n",
        "        example = Example.from_dict(doc, annotations)\n",
        "        nlp.update([example], drop=0.5, losses={})"
      ],
      "metadata": {
        "id": "5A6c5Q8tGczm"
      },
      "execution_count": 10,
      "outputs": []
    },
    {
      "cell_type": "markdown",
      "source": [
        "# TODO :: Test the trained model\n"
      ],
      "metadata": {
        "id": "_5_2cJLhGdlL"
      }
    },
    {
      "cell_type": "code",
      "source": [
        "text = \"Tesla is an electric car manufacturer.\"\n",
        "doc = nlp(text)\n",
        "for ent in doc.ents:\n",
        "    print(ent.text, ent.label_)"
      ],
      "metadata": {
        "id": "ZmCftNIwGfd7"
      },
      "execution_count": 27,
      "outputs": []
    },
    {
      "cell_type": "code",
      "source": [
        "text = \"SpaceX is a space exploration company.\"\n",
        "doc = nlp(text)\n",
        "for ent in doc.ents:\n",
        "    print(ent.text, ent.label_)"
      ],
      "metadata": {
        "id": "X0c9od8Q4fh2"
      },
      "execution_count": 28,
      "outputs": []
    },
    {
      "cell_type": "code",
      "source": [],
      "metadata": {
        "id": "tu85Sab_5KNo"
      },
      "execution_count": null,
      "outputs": []
    }
  ]
}